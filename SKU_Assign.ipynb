{
  "nbformat": 4,
  "nbformat_minor": 0,
  "metadata": {
    "colab": {
      "provenance": [],
      "authorship_tag": "ABX9TyPV4rMVVWn/4Q/In/Fs4/H/",
      "include_colab_link": true
    },
    "kernelspec": {
      "name": "python3",
      "display_name": "Python 3"
    },
    "language_info": {
      "name": "python"
    }
  },
  "cells": [
    {
      "cell_type": "markdown",
      "metadata": {
        "id": "view-in-github",
        "colab_type": "text"
      },
      "source": [
        "<a href=\"https://colab.research.google.com/github/revanthjavvaji/SE20UARI071_SE20UARI036_SKU/blob/main/SKU_Assign.ipynb\" target=\"_parent\"><img src=\"https://colab.research.google.com/assets/colab-badge.svg\" alt=\"Open In Colab\"/></a>"
      ]
    },
    {
      "cell_type": "code",
      "source": [
        "import pandas as pd\n",
        "from sklearn.model_selection import train_test_split\n",
        "\n",
        "\n",
        "data = pd.read_csv(\"/content/train.csv\")"
      ],
      "metadata": {
        "id": "bjALhNhqqh_f"
      },
      "execution_count": 1,
      "outputs": []
    },
    {
      "cell_type": "code",
      "source": [
        "data = data.fillna(0)"
      ],
      "metadata": {
        "id": "SOPLcJ8uuL-H"
      },
      "execution_count": 2,
      "outputs": []
    },
    {
      "cell_type": "code",
      "source": [
        "data['IsHoliday'] = data['IsHoliday'].astype(int)"
      ],
      "metadata": {
        "id": "yolQgW-_uL8r"
      },
      "execution_count": 3,
      "outputs": []
    },
    {
      "cell_type": "code",
      "source": [
        "train_data, test_data = train_test_split(data, test_size=0.2, random_state=42)"
      ],
      "metadata": {
        "id": "c0UL-YtMuL6t"
      },
      "execution_count": 4,
      "outputs": []
    },
    {
      "cell_type": "markdown",
      "source": [
        "# ARIMA Model"
      ],
      "metadata": {
        "id": "mh3UuSDRxgrE"
      }
    },
    {
      "cell_type": "code",
      "source": [
        "from statsmodels.tsa.arima.model import ARIMA\n",
        "\n",
        "\n",
        "def train_arima_model(train_data, store, dept):\n",
        "    store_dept_data = train_data[(train_data['Store'] == store) & (train_data['Dept'] == dept)]\n",
        "    model = ARIMA(store_dept_data['Weekly_Sales'], order=(5,1,0))\n",
        "    model_fit = model.fit()\n",
        "    return model_fit"
      ],
      "metadata": {
        "id": "lo3cWTfPuL4p"
      },
      "execution_count": 5,
      "outputs": []
    },
    {
      "cell_type": "code",
      "source": [
        "model_fit = train_arima_model(train_data, store=1, dept=1)"
      ],
      "metadata": {
        "colab": {
          "base_uri": "https://localhost:8080/"
        },
        "id": "Afvr_fCZqh8v",
        "outputId": "9f838ee1-61fa-4ab6-b916-4854a21d4bfe"
      },
      "execution_count": 6,
      "outputs": [
        {
          "output_type": "stream",
          "name": "stderr",
          "text": [
            "/usr/local/lib/python3.10/dist-packages/statsmodels/tsa/base/tsa_model.py:473: ValueWarning: An unsupported index was provided and will be ignored when e.g. forecasting.\n",
            "  self._init_dates(dates, freq)\n",
            "/usr/local/lib/python3.10/dist-packages/statsmodels/tsa/base/tsa_model.py:473: ValueWarning: An unsupported index was provided and will be ignored when e.g. forecasting.\n",
            "  self._init_dates(dates, freq)\n",
            "/usr/local/lib/python3.10/dist-packages/statsmodels/tsa/base/tsa_model.py:473: ValueWarning: An unsupported index was provided and will be ignored when e.g. forecasting.\n",
            "  self._init_dates(dates, freq)\n"
          ]
        }
      ]
    },
    {
      "cell_type": "code",
      "source": [
        "def evaluate_arima_model(model, test_data):\n",
        "    predictions = model.forecast(steps=12)\n",
        "    mae = abs(predictions - test_data['Weekly_Sales'][:12]).mean()\n",
        "    return mae, predictions"
      ],
      "metadata": {
        "id": "0LlqFTuguiS1"
      },
      "execution_count": 7,
      "outputs": []
    },
    {
      "cell_type": "code",
      "source": [
        "mae, predictions = evaluate_arima_model(model_fit, test_data[(test_data['Store'] == 1) & (test_data['Dept'] == 1)])\n",
        "\n",
        "print(f\"Mean Absolute Error: {mae}\")\n",
        "print(\"Sales Forecast for the next 12 weeks:\")\n",
        "print(predictions)"
      ],
      "metadata": {
        "colab": {
          "base_uri": "https://localhost:8080/"
        },
        "id": "GdDQDa7NuiRJ",
        "outputId": "d8984fdb-975c-48a5-b3b0-14052f6d0f63"
      },
      "execution_count": 8,
      "outputs": [
        {
          "output_type": "stream",
          "name": "stdout",
          "text": [
            "Mean Absolute Error: 3437.2464228718995\n",
            "Sales Forecast for the next 12 weeks:\n",
            "117    21313.965090\n",
            "118    21457.752290\n",
            "119    18754.755404\n",
            "120    19434.224273\n",
            "121    19750.003843\n",
            "122    19930.994960\n",
            "123    20191.147707\n",
            "124    19622.237142\n",
            "125    19637.387920\n",
            "126    19864.920348\n",
            "127    19825.748503\n",
            "128    19860.946472\n",
            "Name: predicted_mean, dtype: float64\n"
          ]
        },
        {
          "output_type": "stream",
          "name": "stderr",
          "text": [
            "/usr/local/lib/python3.10/dist-packages/statsmodels/tsa/base/tsa_model.py:836: ValueWarning: No supported index is available. Prediction results will be given with an integer index beginning at `start`.\n",
            "  return get_prediction_index(\n",
            "/usr/local/lib/python3.10/dist-packages/statsmodels/tsa/base/tsa_model.py:836: FutureWarning: No supported index is available. In the next version, calling this method in a model without a supported index will result in an exception.\n",
            "  return get_prediction_index(\n"
          ]
        }
      ]
    },
    {
      "cell_type": "markdown",
      "source": [
        "##Exponential Smoothing (ETS) Forecasting"
      ],
      "metadata": {
        "id": "vfaPVZ6rvzml"
      }
    },
    {
      "cell_type": "code",
      "source": [
        "from statsmodels.tsa.holtwinters import ExponentialSmoothing\n",
        "\n",
        "# Define a function to train an ETS model for a specific store and department combination\n",
        "def train_ets_model(train_data, store, dept):\n",
        "    # Filter data for the specific store and department\n",
        "    store_dept_data = train_data[(train_data['Store'] == store) & (train_data['Dept'] == dept)]\n",
        "\n",
        "    # Fit ETS model (additive seasonality, multiplicative trend)\n",
        "    model = ExponentialSmoothing(store_dept_data['Weekly_Sales'], seasonal='add', seasonal_periods=52, trend='mul')\n",
        "    model_fit = model.fit()\n",
        "\n",
        "    return model_fit"
      ],
      "metadata": {
        "id": "Mw_eovXyvbrO"
      },
      "execution_count": 9,
      "outputs": []
    },
    {
      "cell_type": "code",
      "source": [
        "# Example: Train ETS model for Store=1 and Dept=1\n",
        "model_fit_ets = train_ets_model(train_data, store=1, dept=1)"
      ],
      "metadata": {
        "colab": {
          "base_uri": "https://localhost:8080/"
        },
        "id": "O7xmqWBsv8Qc",
        "outputId": "372b3f23-b296-40f7-bfc0-4be3ea3a2463"
      },
      "execution_count": 10,
      "outputs": [
        {
          "output_type": "stream",
          "name": "stderr",
          "text": [
            "/usr/local/lib/python3.10/dist-packages/statsmodels/tsa/base/tsa_model.py:473: ValueWarning: An unsupported index was provided and will be ignored when e.g. forecasting.\n",
            "  self._init_dates(dates, freq)\n",
            "/usr/local/lib/python3.10/dist-packages/statsmodels/tsa/holtwinters/model.py:917: ConvergenceWarning: Optimization failed to converge. Check mle_retvals.\n",
            "  warnings.warn(\n"
          ]
        }
      ]
    },
    {
      "cell_type": "code",
      "source": [
        "# Define a function to evaluate the ETS model\n",
        "def evaluate_ets_model(model, test_data):\n",
        "    # Make predictions for the test set\n",
        "    predictions = model.forecast(steps=12)\n",
        "\n",
        "    # Calculate the accuracy metrics (e.g., Mean Absolute Error)\n",
        "    mae = abs(predictions - test_data['Weekly_Sales'][:12]).mean()\n",
        "    return mae, predictions"
      ],
      "metadata": {
        "id": "ElCf70vnwMHy"
      },
      "execution_count": 11,
      "outputs": []
    },
    {
      "cell_type": "code",
      "source": [
        "# Example: Evaluate the ETS model for Store=1 and Dept=1\n",
        "mae_ets, predictions_ets = evaluate_ets_model(model_fit_ets, test_data[(test_data['Store'] == 1) & (test_data['Dept'] == 1)])\n",
        "\n",
        "print(f\"Mean Absolute Error (ETS): {mae_ets}\")\n",
        "print(\"Sales Forecast for the next 12 weeks (ETS):\")\n",
        "print(predictions_ets)"
      ],
      "metadata": {
        "colab": {
          "base_uri": "https://localhost:8080/"
        },
        "id": "Lgg3UiqtwNzR",
        "outputId": "074f8fec-fe54-4d37-ad07-8b5114796d7d"
      },
      "execution_count": 12,
      "outputs": [
        {
          "output_type": "stream",
          "name": "stdout",
          "text": [
            "Mean Absolute Error (ETS): 2402.115663449076\n",
            "Sales Forecast for the next 12 weeks (ETS):\n",
            "117    16602.631468\n",
            "118    12322.990615\n",
            "119    14337.869271\n",
            "120    17933.349845\n",
            "121    14385.704090\n",
            "122    15937.911422\n",
            "123    13183.544069\n",
            "124    18858.505226\n",
            "125    40885.936819\n",
            "126    22606.909732\n",
            "127    26347.839915\n",
            "128    18634.322527\n",
            "dtype: float64\n"
          ]
        },
        {
          "output_type": "stream",
          "name": "stderr",
          "text": [
            "/usr/local/lib/python3.10/dist-packages/statsmodels/tsa/base/tsa_model.py:836: ValueWarning: No supported index is available. Prediction results will be given with an integer index beginning at `start`.\n",
            "  return get_prediction_index(\n",
            "/usr/local/lib/python3.10/dist-packages/statsmodels/tsa/base/tsa_model.py:836: FutureWarning: No supported index is available. In the next version, calling this method in a model without a supported index will result in an exception.\n",
            "  return get_prediction_index(\n"
          ]
        }
      ]
    },
    {
      "cell_type": "code",
      "source": [],
      "metadata": {
        "id": "l-OZPJYOxMFx"
      },
      "execution_count": null,
      "outputs": []
    },
    {
      "cell_type": "code",
      "source": [],
      "metadata": {
        "id": "JnDeNiIbxMEC"
      },
      "execution_count": null,
      "outputs": []
    }
  ]
}